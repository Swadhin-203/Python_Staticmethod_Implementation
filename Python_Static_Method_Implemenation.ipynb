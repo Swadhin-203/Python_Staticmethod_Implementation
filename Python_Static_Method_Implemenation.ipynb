{
 "cells": [
  {
   "cell_type": "code",
   "execution_count": 1,
   "id": "2b5778da",
   "metadata": {},
   "outputs": [],
   "source": [
    "class college:\n",
    "    def student_details(self, name, mail_id, number):\n",
    "        print(name,mail_id,number)"
   ]
  },
  {
   "cell_type": "code",
   "execution_count": 2,
   "id": "26f120f4",
   "metadata": {},
   "outputs": [],
   "source": [
    "col=college()"
   ]
  },
  {
   "cell_type": "code",
   "execution_count": 3,
   "id": "a2177b38",
   "metadata": {},
   "outputs": [
    {
     "name": "stdout",
     "output_type": "stream",
     "text": [
      "Swadhin nayakswadhingyanajyoti@gmail.com 6939593983\n"
     ]
    }
   ],
   "source": [
    "col.student_details(\"Swadhin\",\"nayakswadhingyanajyoti@gmail.com\",6939593983)"
   ]
  },
  {
   "cell_type": "code",
   "execution_count": 7,
   "id": "20ea9fbb",
   "metadata": {},
   "outputs": [],
   "source": [
    "class college1:\n",
    "    def student_details(self, name, mail_id, number):\n",
    "        print(name,mail_id,number)\n",
    "        \n",
    "    @staticmethod\n",
    "    def mentor_class(list_mentor):\n",
    "        print(list_mentor)\n",
    "        \n",
    "    def mentor(self,mentor_list):\n",
    "        print(mentor_list)"
   ]
  },
  {
   "cell_type": "code",
   "execution_count": 8,
   "id": "55f2f5ca",
   "metadata": {},
   "outputs": [],
   "source": [
    "col1=college1()"
   ]
  },
  {
   "cell_type": "code",
   "execution_count": 9,
   "id": "8387ad59",
   "metadata": {},
   "outputs": [
    {
     "name": "stdout",
     "output_type": "stream",
     "text": [
      "['swadhin', 'jojo']\n"
     ]
    }
   ],
   "source": [
    "col1.mentor([\"swadhin\",\"jojo\"])"
   ]
  },
  {
   "cell_type": "code",
   "execution_count": 10,
   "id": "934f1b1c",
   "metadata": {},
   "outputs": [
    {
     "name": "stdout",
     "output_type": "stream",
     "text": [
      "['swadhin', 'jojo']\n"
     ]
    }
   ],
   "source": [
    "col1.mentor_class([\"swadhin\",\"jojo\"])"
   ]
  },
  {
   "cell_type": "code",
   "execution_count": 6,
   "id": "3dfc0feb",
   "metadata": {},
   "outputs": [
    {
     "name": "stdout",
     "output_type": "stream",
     "text": [
      "['swadhin', 'jojo']\n"
     ]
    }
   ],
   "source": [
    "college1.mentor_class([\"swadhin\",\"jojo\"])"
   ]
  },
  {
   "cell_type": "code",
   "execution_count": 14,
   "id": "f0c6db75",
   "metadata": {},
   "outputs": [],
   "source": [
    "class college1:\n",
    "    def student_details(self, name, mail_id, number):\n",
    "        print(name,mail_id,number)\n",
    "        self.student_details\n",
    "    @staticmethod\n",
    "    def mentor_mail_id(mail_id):\n",
    "        print(mail_id)\n",
    "        \n",
    "        \n",
    "    @staticmethod\n",
    "    def mentor_class(list_mentor):\n",
    "        print(list_mentor)\n",
    "        college1.mentor_mail_id(\"Swadhin@gmail.com\")\n",
    "        \n",
    "    @classmethod\n",
    "    def class_name(cls,class_name):\n",
    "        cls.mentor_class\n",
    "    \n",
    "    def mentor(self,mentor_list):\n",
    "        print(mentor_list)\n",
    "        self.mentor_class([\"swadhin\",\"jojo\"])"
   ]
  },
  {
   "cell_type": "code",
   "execution_count": 15,
   "id": "36650d42",
   "metadata": {},
   "outputs": [],
   "source": [
    "col2=college1()"
   ]
  },
  {
   "cell_type": "code",
   "execution_count": 16,
   "id": "217ede1a",
   "metadata": {},
   "outputs": [
    {
     "name": "stdout",
     "output_type": "stream",
     "text": [
      "Swadhin Swadhin@gmail.come 94855948594\n"
     ]
    }
   ],
   "source": [
    "col2.student_details(\"Swadhin\",\"Swadhin@gmail.come\",94855948594)"
   ]
  },
  {
   "cell_type": "code",
   "execution_count": null,
   "id": "7d2c47e2",
   "metadata": {},
   "outputs": [],
   "source": []
  },
  {
   "cell_type": "code",
   "execution_count": null,
   "id": "9fd7e39f",
   "metadata": {},
   "outputs": [],
   "source": []
  },
  {
   "cell_type": "code",
   "execution_count": null,
   "id": "9633f0a5",
   "metadata": {},
   "outputs": [],
   "source": []
  },
  {
   "cell_type": "code",
   "execution_count": null,
   "id": "cca16bea",
   "metadata": {},
   "outputs": [],
   "source": []
  },
  {
   "cell_type": "code",
   "execution_count": null,
   "id": "1bcc8cb4",
   "metadata": {},
   "outputs": [],
   "source": []
  },
  {
   "cell_type": "code",
   "execution_count": null,
   "id": "52e82d1e",
   "metadata": {},
   "outputs": [],
   "source": []
  },
  {
   "cell_type": "code",
   "execution_count": null,
   "id": "77285bff",
   "metadata": {},
   "outputs": [],
   "source": []
  },
  {
   "cell_type": "code",
   "execution_count": null,
   "id": "82227a37",
   "metadata": {},
   "outputs": [],
   "source": []
  }
 ],
 "metadata": {
  "kernelspec": {
   "display_name": "Python 3 (ipykernel)",
   "language": "python",
   "name": "python3"
  },
  "language_info": {
   "codemirror_mode": {
    "name": "ipython",
    "version": 3
   },
   "file_extension": ".py",
   "mimetype": "text/x-python",
   "name": "python",
   "nbconvert_exporter": "python",
   "pygments_lexer": "ipython3",
   "version": "3.10.9"
  }
 },
 "nbformat": 4,
 "nbformat_minor": 5
}
